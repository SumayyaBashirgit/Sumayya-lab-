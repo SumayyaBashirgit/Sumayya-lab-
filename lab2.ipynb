{
 "cells": [
  {
   "cell_type": "markdown",
   "id": "d253d27c",
   "metadata": {},
   "source": [
    "# part-1\n"
   ]
  },
  {
   "cell_type": "code",
   "execution_count": 3,
   "id": "8a7c6626",
   "metadata": {},
   "outputs": [
    {
     "name": "stdout",
     "output_type": "stream",
     "text": [
      "My name is  Sumayya my age is 20 my fav color is purple\n"
     ]
    }
   ],
   "source": [
    "a=\"Sumayya\"\n",
    "b=20\n",
    "c='purple'\n",
    "print('My name is ',a,'my age is',b,'my fav color is',c)"
   ]
  },
  {
   "cell_type": "markdown",
   "id": "3068590c",
   "metadata": {},
   "source": [
    "# part-2"
   ]
  },
  {
   "cell_type": "code",
   "execution_count": 1,
   "id": "af0fc841",
   "metadata": {
    "scrolled": true
   },
   "outputs": [
    {
     "name": "stdout",
     "output_type": "stream",
     "text": [
      " Hello!How are you  Sumayya\n"
     ]
    }
   ],
   "source": [
    "longStr=input('enter your name:')\n",
    "print(' Hello!How are you ',longStr)\n"
   ]
  },
  {
   "cell_type": "markdown",
   "id": "3021bbd9",
   "metadata": {},
   "source": [
    "# part-3"
   ]
  },
  {
   "cell_type": "code",
   "execution_count": 4,
   "id": "4fbcb3a3",
   "metadata": {
    "scrolled": true
   },
   "outputs": [
    {
     "name": "stdout",
     "output_type": "stream",
     "text": [
      "The length of given string is 30 includig spaces.\n"
     ]
    }
   ],
   "source": [
    "longstr=input('my favourite quote:')\n",
    "longstr\n",
    "print(f\"The length of given string is {len(longstr)} includig spaces.\")"
   ]
  },
  {
   "cell_type": "markdown",
   "id": "5967c568",
   "metadata": {},
   "source": [
    "# part-4"
   ]
  },
  {
   "cell_type": "code",
   "execution_count": 5,
   "id": "0d6fd4d6",
   "metadata": {},
   "outputs": [
    {
     "data": {
      "text/plain": [
       "['orange', 'pineapple', 'grapes']"
      ]
     },
     "execution_count": 5,
     "metadata": {},
     "output_type": "execute_result"
    }
   ],
   "source": [
    "list=['orange','pineapple','grapes']\n",
    "list"
   ]
  },
  {
   "cell_type": "markdown",
   "id": "6f6e4e7b",
   "metadata": {},
   "source": [
    "# part-5"
   ]
  },
  {
   "cell_type": "code",
   "execution_count": 6,
   "id": "49242806",
   "metadata": {},
   "outputs": [
    {
     "name": "stdout",
     "output_type": "stream",
     "text": [
      "orange\n",
      "pineapple\n",
      "grapes\n"
     ]
    }
   ],
   "source": [
    "for i in list:\n",
    "    print (i)\n",
    "\n"
   ]
  },
  {
   "cell_type": "markdown",
   "id": "ebec7797",
   "metadata": {},
   "source": [
    "# part-6"
   ]
  },
  {
   "cell_type": "code",
   "execution_count": 7,
   "id": "43dc13b5",
   "metadata": {},
   "outputs": [
    {
     "name": "stdout",
     "output_type": "stream",
     "text": [
      "Sumayya\n",
      "Islamabad\n",
      "20\n"
     ]
    }
   ],
   "source": [
    "mydict={ \"Sumayya\" :\"name\",\n",
    "        \"Islamabad\" : \"city.\",20: \"age\"}\n",
    "\n",
    "for i in mydict:\n",
    "    print(i)"
   ]
  },
  {
   "cell_type": "markdown",
   "id": "afa9f26a",
   "metadata": {},
   "source": [
    "# part-7"
   ]
  },
  {
   "cell_type": "code",
   "execution_count": 8,
   "id": "d5190ef7",
   "metadata": {},
   "outputs": [
    {
     "name": "stdout",
     "output_type": "stream",
     "text": [
      "You are not eligible to vote as you are underage\n"
     ]
    }
   ],
   "source": [
    "a = int(input(\"Enter age \"))\n",
    "if a > 18:\n",
    "    print(\"You are eligible for voting\")\n",
    "\n",
    "else:\n",
    "    print(\"You are not eligible to vote as you are underage\")"
   ]
  },
  {
   "cell_type": "markdown",
   "id": "eda34d10",
   "metadata": {},
   "source": [
    "# part-8"
   ]
  },
  {
   "cell_type": "code",
   "execution_count": 11,
   "id": "c40b3937",
   "metadata": {},
   "outputs": [
    {
     "name": "stdout",
     "output_type": "stream",
     "text": [
      "The area of the rectangle is: 26.64\n"
     ]
    }
   ],
   "source": [
    "\n",
    "def rectangle_area(length, width):\n",
    "    return length * width\n",
    "\n",
    "length = float(input(\"Enter the length : \"))\n",
    "\n",
    "width = float(input(\"Enter the width: \"))\n",
    "\n",
    "\n",
    "area =rectangle_area(length, width)\n",
    "\n",
    "\n",
    "print(\"The area of the rectangle is:\", area)\n",
    "\n",
    "\n",
    "\n"
   ]
  },
  {
   "cell_type": "markdown",
   "id": "2b4de1e7",
   "metadata": {},
   "source": [
    "# part-9"
   ]
  },
  {
   "cell_type": "code",
   "execution_count": 12,
   "id": "07a1a4b2",
   "metadata": {},
   "outputs": [
    {
     "name": "stdout",
     "output_type": "stream",
     "text": [
      "I'm thinking of a number. Can you guess it?\n",
      "Try a higher number.\n",
      "Try a higher number.\n",
      "Try a higher number.\n",
      "Invalid input. Please enter a number.\n",
      "Invalid input. Please enter a number.\n",
      "Invalid input. Please enter a number.\n",
      "Invalid input. Please enter a number.\n",
      "Invalid input. Please enter a number.\n",
      "Invalid input. Please enter a number.\n",
      "Invalid input. Please enter a number.\n",
      "Invalid input. Please enter a number.\n",
      "Invalid input. Please enter a number.\n",
      "Invalid input. Please enter a number.\n",
      "Invalid input. Please enter a number.\n",
      "Invalid input. Please enter a number.\n",
      "Invalid input. Please enter a number.\n",
      "Invalid input. Please enter a number.\n",
      "Invalid input. Please enter a number.\n",
      "Invalid input. Please enter a number.\n",
      "Invalid input. Please enter a number.\n",
      "Invalid input. Please enter a number.\n",
      "Invalid input. Please enter a number.\n",
      "Invalid input. Please enter a number.\n",
      "Invalid input. Please enter a number.\n",
      "Invalid input. Please enter a number.\n",
      "Invalid input. Please enter a number.\n",
      "Invalid input. Please enter a number.\n",
      "Invalid input. Please enter a number.\n",
      "Invalid input. Please enter a number.\n",
      "Invalid input. Please enter a number.\n",
      "Invalid input. Please enter a number.\n",
      "Invalid input. Please enter a number.\n",
      "Invalid input. Please enter a number.\n",
      "Invalid input. Please enter a number.\n",
      "Invalid input. Please enter a number.\n",
      "Invalid input. Please enter a number.\n",
      "Invalid input. Please enter a number.\n",
      "Invalid input. Please enter a number.\n",
      "Invalid input. Please enter a number.\n",
      "Invalid input. Please enter a number.\n",
      "Invalid input. Please enter a number.\n",
      "Invalid input. Please enter a number.\n",
      "Invalid input. Please enter a number.\n",
      "Invalid input. Please enter a number.\n",
      "Invalid input. Please enter a number.\n",
      "Invalid input. Please enter a number.\n",
      "Invalid input. Please enter a number.\n",
      "Invalid input. Please enter a number.\n",
      "Invalid input. Please enter a number.\n",
      "Invalid input. Please enter a number.\n",
      "Invalid input. Please enter a number.\n",
      "Try a higher number.\n"
     ]
    }
   ],
   "source": [
    "\n",
    "secret_number = 15\n",
    "\n",
    "\n",
    "print(\"I'm thinking of a number. Can you guess it?\")\n",
    "\n",
    "while True:\n",
    "\n",
    "    try:\n",
    "        guess = int(input(\"Enter your guess: \"))\n",
    "    except ValueError:\n",
    "        print(\"Invalid input. Please enter a number.\")\n",
    "        continue\n",
    "    \n",
    "\n",
    "    if guess == secret_number:\n",
    "        print(f\"Congratulations! You've guessed the number {secret_number}.\")\n",
    "        break\n",
    "    elif guess < secret_number:\n",
    "        print(\"Try a higher number.\")\n",
    "    else:\n",
    "        print(\"Try a lower number.\")\n"
   ]
  },
  {
   "cell_type": "code",
   "execution_count": null,
   "id": "a0c81f2c",
   "metadata": {},
   "outputs": [],
   "source": []
  }
 ],
 "metadata": {
  "kernelspec": {
   "display_name": "Python 3",
   "language": "python",
   "name": "python3"
  },
  "language_info": {
   "codemirror_mode": {
    "name": "ipython",
    "version": 3
   },
   "file_extension": ".py",
   "mimetype": "text/x-python",
   "name": "python",
   "nbconvert_exporter": "python",
   "pygments_lexer": "ipython3",
   "version": "3.11.4"
  }
 },
 "nbformat": 4,
 "nbformat_minor": 5
}
